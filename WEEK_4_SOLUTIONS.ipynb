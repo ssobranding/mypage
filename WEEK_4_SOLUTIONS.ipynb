{
  "nbformat": 4,
  "nbformat_minor": 0,
  "metadata": {
    "colab": {
      "provenance": [],
      "include_colab_link": true
    },
    "kernelspec": {
      "name": "python3",
      "display_name": "Python 3"
    },
    "language_info": {
      "name": "python"
    }
  },
  "cells": [
    {
      "cell_type": "markdown",
      "metadata": {
        "id": "view-in-github",
        "colab_type": "text"
      },
      "source": [
        "<a href=\"https://colab.research.google.com/github/ssobranding/mypage/blob/main/WEEK_4_SOLUTIONS.ipynb\" target=\"_parent\"><img src=\"https://colab.research.google.com/assets/colab-badge.svg\" alt=\"Open In Colab\"/></a>"
      ]
    },
    {
      "cell_type": "markdown",
      "source": [
        "# WEEK THREE: Modeling (part one)\n",
        "\n",
        "## EXERCISE #1 - Linear Regression\n",
        "\n",
        "### FIRST TASK - Fit the other models"
      ],
      "metadata": {
        "id": "dzKzxkse7XX2"
      }
    },
    {
      "cell_type": "code",
      "execution_count": null,
      "metadata": {
        "id": "Nw2TFyzA7Wvj"
      },
      "outputs": [],
      "source": [
        "import pandas as pd\n",
        "import numpy as np\n",
        "\n",
        "# read in the data\n",
        "df = pd.read_csv(\"https://raw.githubusercontent.com/jbrownlee/Datasets/master/housing.csv\", header=None)\n",
        "\n",
        "x_values = df.drop([13], axis = 1)\n",
        "\n",
        "y_value = df[13]\n",
        "\n",
        "from sklearn.model_selection  import train_test_split\n",
        "X_train, X_test, Y_train, Y_test = train_test_split(x_values, y_value, test_size = 0.2, random_state=1234)\n",
        "\n",
        "from sklearn.linear_model import LinearRegression as LR\n",
        "\n",
        "# create the LR model\n",
        "lr_algo = LR()\n",
        "lr_model = lr_algo.fit(X_train, Y_train)\n",
        "\n",
        "from sklearn.linear_model import Lasso, Ridge, ElasticNet\n",
        "\n",
        "# LASSO\n",
        "l1_algo = Lasso(alpha=.5)\n",
        "l1_model = l1_algo.fit(X_train, Y_train)\n",
        "\n",
        "# Ridge\n",
        "l2_algo = Ridge(alpha=.5)\n",
        "l2_model = l2_algo.fit(X_train, Y_train)\n",
        "\n",
        "# ElasticNet\n",
        "elastic_algo = ElasticNet(alpha=.5, l1_ratio=.5)\n",
        "elastic_model = elastic_algo.fit(X_train, Y_train)"
      ]
    },
    {
      "cell_type": "markdown",
      "source": [
        "### SECOND TASK - Print and check the parameters"
      ],
      "metadata": {
        "id": "Wcwtn80I9ATp"
      }
    },
    {
      "cell_type": "code",
      "source": [
        "# doing this as a for loop because I'm lazy\n",
        "\n",
        "models = [lr_model, l1_model, l2_model, elastic_model]\n",
        "model_names = ['LR', 'LASSO', 'Ridge', 'ElasticNet']\n",
        "\n",
        "for i in range(4):\n",
        "  # Set model and print name\n",
        "  model = models[i]\n",
        "  print(f'Model: {model_names[i]}')\n",
        "\n",
        "  # get and print the alpha value\n",
        "  alpha = model.intercept_\n",
        "  print(f'Alpha: {alpha}')\n",
        "\n",
        "  # we'll run a count variable we can update in our for loop\n",
        "  # this will allow us to print the beta value name each time\n",
        "  count = 1\n",
        "\n",
        "  # we expect 13x beta values so we'll loop through and print\n",
        "  betas = model.coef_\n",
        "  for beta in betas:\n",
        "    # use the round function to round the coefficient to 2 decimal places\n",
        "    print(f'Beta #{count}: {round(beta, 2)}')\n",
        "    # increase the count value by one for the next beta name\n",
        "    count += 1\n",
        "\n",
        "  print('\\n')"
      ],
      "metadata": {
        "colab": {
          "base_uri": "https://localhost:8080/"
        },
        "id": "Q7oXeU2E75pJ",
        "outputId": "b16fa3ab-8b64-4264-e508-323f68345b00"
      },
      "execution_count": null,
      "outputs": [
        {
          "output_type": "stream",
          "name": "stdout",
          "text": [
            "Model: LR\n",
            "Alpha: 45.73718122895507\n",
            "Beta #1: -0.1\n",
            "Beta #2: 0.06\n",
            "Beta #3: 0.03\n",
            "Beta #4: 3.0\n",
            "Beta #5: -20.41\n",
            "Beta #6: 2.89\n",
            "Beta #7: -0.01\n",
            "Beta #8: -1.76\n",
            "Beta #9: 0.34\n",
            "Beta #10: -0.01\n",
            "Beta #11: -1.02\n",
            "Beta #12: 0.01\n",
            "Beta #13: -0.53\n",
            "\n",
            "\n",
            "Model: LASSO\n",
            "Alpha: 38.63363289724569\n",
            "Beta #1: -0.07\n",
            "Beta #2: 0.07\n",
            "Beta #3: -0.0\n",
            "Beta #4: 0.0\n",
            "Beta #5: -0.0\n",
            "Beta #6: 1.63\n",
            "Beta #7: 0.0\n",
            "Beta #8: -1.08\n",
            "Beta #9: 0.3\n",
            "Beta #10: -0.02\n",
            "Beta #11: -0.78\n",
            "Beta #12: 0.01\n",
            "Beta #13: -0.65\n",
            "\n",
            "\n",
            "Model: Ridge\n",
            "Alpha: 41.48369969555033\n",
            "Beta #1: -0.1\n",
            "Beta #2: 0.06\n",
            "Beta #3: 0.01\n",
            "Beta #4: 2.91\n",
            "Beta #5: -14.52\n",
            "Beta #6: 2.93\n",
            "Beta #7: -0.01\n",
            "Beta #8: -1.66\n",
            "Beta #9: 0.32\n",
            "Beta #10: -0.01\n",
            "Beta #11: -0.95\n",
            "Beta #12: 0.01\n",
            "Beta #13: -0.53\n",
            "\n",
            "\n",
            "Model: ElasticNet\n",
            "Alpha: 41.80264754630359\n",
            "Beta #1: -0.08\n",
            "Beta #2: 0.07\n",
            "Beta #3: -0.02\n",
            "Beta #4: 0.0\n",
            "Beta #5: -0.0\n",
            "Beta #6: 1.29\n",
            "Beta #7: 0.0\n",
            "Beta #8: -1.11\n",
            "Beta #9: 0.33\n",
            "Beta #10: -0.02\n",
            "Beta #11: -0.81\n",
            "Beta #12: 0.01\n",
            "Beta #13: -0.67\n",
            "\n",
            "\n"
          ]
        }
      ]
    },
    {
      "cell_type": "markdown",
      "source": [
        "As we can see, all three regularisation methods reduce the size of the betas (which we should expect - that's what they do).\n",
        "\n",
        "We may notice that $L1$ reduces some of the beta weights to $0$, while $L2$ does not. While $L2$ theoretically can reduce to $0$ with a big enough $\\alpha$, this will not likely happen in practice.\n",
        "\n",
        "Why is this? Well the loss function says we take the square of the $\\beta$'s. When the $\\beta$'s get small - below 1 - then reducing them further becomes less important to the algorithm's minimisation objective. For instance, $0.1^2$ = $0.01$ ... a smaller number. As the algorithm is minimising these __AND__ the OLS objective then when the $\\beta$ is small it becomes less important in the optimisation. I.e. there will be more value in changing the OLS than there would be moving a $\\beta$ from $0.1$ to $0.01$. Because $L1$ treats $\\beta$'s as absolute values, there continues to be value in reducing them - often down to $0$.\n",
        "\n",
        "ElasticNet combines $L1$ and $L2$ and we can see that in the results. Some are $0$ but fewer than $L1$ overall."
      ],
      "metadata": {
        "id": "9wRJcKnF_nt_"
      }
    },
    {
      "cell_type": "markdown",
      "source": [
        "### THIRD TASK - Comparing the scores"
      ],
      "metadata": {
        "id": "KJXtZGuZBaGP"
      }
    },
    {
      "cell_type": "code",
      "source": [
        "from sklearn.metrics import mean_squared_error as MSE\n",
        "from sklearn.metrics import root_mean_squared_error as RMSE\n",
        "from sklearn.metrics import mean_absolute_error as MAE\n",
        "from sklearn.metrics import r2_score as R2\n",
        "\n",
        "# the same for loop again\n",
        "for i in range(4):\n",
        "  # Set model and print name\n",
        "  model = models[i]\n",
        "  print(f'Model: {model_names[i]}')\n",
        "\n",
        "  # predict the test data\n",
        "  predict = model.predict(X_test)\n",
        "\n",
        "  # calculate each metric by comparing the prediction with the real value in Y_test\n",
        "  print(f'MSE: {round(MSE(Y_test, predict),2)}')\n",
        "  print(f'RMSE: {round(RMSE(Y_test, predict),2)}')\n",
        "  print(f'MAE: {round(MAE(Y_test, predict),2)}')\n",
        "  print(f'R2: {round(R2(Y_test, predict),2)}')\n",
        "  print('\\n')"
      ],
      "metadata": {
        "colab": {
          "base_uri": "https://localhost:8080/"
        },
        "id": "dPTw92xqBdsF",
        "outputId": "80537cd4-d763-4558-b903-75803f03036b"
      },
      "execution_count": null,
      "outputs": [
        {
          "output_type": "stream",
          "name": "stdout",
          "text": [
            "Model: LR\n",
            "MSE: 23.96\n",
            "RMSE: 4.9\n",
            "MAE: 3.58\n",
            "R2: 0.77\n",
            "\n",
            "\n",
            "Model: LASSO\n",
            "MSE: 27.36\n",
            "RMSE: 5.23\n",
            "MAE: 3.6\n",
            "R2: 0.73\n",
            "\n",
            "\n",
            "Model: Ridge\n",
            "MSE: 23.57\n",
            "RMSE: 4.86\n",
            "MAE: 3.5\n",
            "R2: 0.77\n",
            "\n",
            "\n",
            "Model: ElasticNet\n",
            "MSE: 28.3\n",
            "RMSE: 5.32\n",
            "MAE: 3.67\n",
            "R2: 0.72\n",
            "\n",
            "\n"
          ]
        }
      ]
    },
    {
      "cell_type": "markdown",
      "source": [
        "By nearly all of the metrics Ridge performs best. We also prefer this to normal Linear Regression, even if that was slightly better, because there is regularisation. Overall $L2$ wins this time."
      ],
      "metadata": {
        "id": "LXSn8E6vB-Cg"
      }
    },
    {
      "cell_type": "markdown",
      "source": [
        "## EXERCISE #2 - Logistic Regression\n",
        "\n",
        "### FIRST TASK - Calculate the metrics"
      ],
      "metadata": {
        "id": "-7aMA-XxChwn"
      }
    },
    {
      "cell_type": "code",
      "source": [
        "from sklearn.datasets import load_breast_cancer\n",
        "\n",
        "# import the data\n",
        "data = load_breast_cancer()\n",
        "\n",
        "# create a DataFrame of features\n",
        "x_values = pd.DataFrame(data.data, columns=data.feature_names)\n",
        "\n",
        "from sklearn.preprocessing import MinMaxScaler\n",
        "\n",
        "# create a MinMaxScaler object\n",
        "scaler = MinMaxScaler()\n",
        "\n",
        "# fit and transform the data\n",
        "normal_data = scaler.fit_transform(x_values)\n",
        "\n",
        "# recreate x_values using the scaled data and original feature names\n",
        "x_values = pd.DataFrame(normal_data, columns=data.feature_names)\n",
        "\n",
        "y_value = pd.DataFrame(data.target, columns=['class'])\n",
        "y_value = np.ravel(y_value)\n",
        "\n",
        "# split data into training and test\n",
        "from sklearn.model_selection  import train_test_split\n",
        "X_train, X_test, Y_train, Y_test = train_test_split(x_values, y_value, test_size = 0.2, random_state=4567, stratify=y_value)\n",
        "\n",
        "from sklearn.linear_model import LogisticRegression as LogR\n",
        "\n",
        "# create the model\n",
        "logR_algo = LogR(penalty=None)\n",
        "logR_model = logR_algo.fit(X_train, Y_train)\n",
        "\n",
        "from sklearn.metrics import accuracy_score\n",
        "\n",
        "# predict the test data\n",
        "predict = logR_model.predict(X_test)\n",
        "\n",
        "print(f'Accuracy: {round(accuracy_score(Y_test, predict),2)}')"
      ],
      "metadata": {
        "colab": {
          "base_uri": "https://localhost:8080/"
        },
        "id": "hswHFQdWCnR_",
        "outputId": "7a165bee-72f0-4cbd-c577-9b247002c42c"
      },
      "execution_count": null,
      "outputs": [
        {
          "output_type": "stream",
          "name": "stdout",
          "text": [
            "Accuracy: 0.96\n"
          ]
        }
      ]
    },
    {
      "cell_type": "code",
      "source": [
        "from sklearn.metrics import ConfusionMatrixDisplay as CM\n",
        "\n",
        "# create a confusion matrix\n",
        "CM.from_predictions(Y_test, predict)"
      ],
      "metadata": {
        "colab": {
          "base_uri": "https://localhost:8080/",
          "height": 467
        },
        "id": "homNdRvtDHuu",
        "outputId": "1b2196c4-135f-487a-bb13-43b05998a810"
      },
      "execution_count": null,
      "outputs": [
        {
          "output_type": "execute_result",
          "data": {
            "text/plain": [
              "<sklearn.metrics._plot.confusion_matrix.ConfusionMatrixDisplay at 0x7b74bb11bdf0>"
            ]
          },
          "metadata": {},
          "execution_count": 13
        },
        {
          "output_type": "display_data",
          "data": {
            "text/plain": [
              "<Figure size 640x480 with 2 Axes>"
            ],
            "image/png": "[encoded data removed]"
          },
          "metadata": {}
        }
      ]
    },
    {
      "cell_type": "markdown",
      "source": [
        "__MICRO SCORES__:\n",
        "\n",
        "*   Precision = $\\frac{TN + TP} {TN + TP + FP + FN}$\n",
        "\n",
        "*   Precision = $\\frac{39 + 71} {39 + 71 + 3 + 1}$ = $\\frac{110} {114}$\n",
        "\n",
        "*   Precision = 0.96\n",
        "\n",
        "*   Recall = $\\frac{TN + TP} {TN + TP + FP + FN}$\n",
        "\n",
        "*   Recall = $\\frac{39 + 71} {39 + 71 + 3 + 1}$ = $\\frac{110} {114}$\n",
        "\n",
        "*   Recall = 0.96\n",
        "\n",
        "Note that these are the same (and in fact the same as the accuracy score). This will always be true of micro scores so we won't bother with F1.\n",
        "\n",
        "__MACRO SCORES__:\n",
        "*   $Precision{0}$ = $\\frac{TP{0}} {TP{0} + FP{0}}$\n",
        "\n",
        "*   $Precision{0}$ = $\\frac{TN} {TN + FN}$\n",
        "\n",
        "*   $Precision{0}$ = $\\frac{39} {39 + 1}$ = $\\frac{39} {40}$\n",
        "\n",
        "*   $Precision{0}$ = 0.975\n",
        "<br>\n",
        "\n",
        "*   $Precision{1}$ = $\\frac{TP{1}} {TP{1} + FP{1}}$\n",
        "\n",
        "*   $Precision{1}$ = $\\frac{TP} {TP + FP}$\n",
        "\n",
        "*   $Precision{1}$ = $\\frac{71} {71 + 3}$ = $\\frac{71} {74}$\n",
        "\n",
        "*   $Precision{1}$ = 0.960\n",
        "<br>\n",
        "\n",
        "*   $Precision$ = $\\frac{Precision{0} + Precision{1}} {2}$ = $\\frac{0.975 + 0.960} {2} = \\frac{1.935} {2}$\n",
        "\n",
        "*   $Precision$ = $0.967$\n",
        "\n",
        "<br>\n",
        "<br>\n",
        "\n",
        "*   $Recall{0}$ = $\\frac{TP{0}} {TP{0} + FN{0}}$\n",
        "\n",
        "*   $Recall{0}$ = $\\frac{TN} {TN + FP}$\n",
        "\n",
        "*   $Recall{0}$ = $\\frac{39} {39 + 3}$ = $\\frac{39} {42}$\n",
        "\n",
        "*   $Recall{0}$ = 0.923\n",
        "\n",
        "<br>\n",
        "\n",
        "*   $Recall{1}$ = $\\frac{TP{1}} {TP{1} + FN{1}}$\n",
        "\n",
        "*   $Recall{1}$ = $\\frac{TP} {TP + FN}$\n",
        "\n",
        "*   $Recall{1}$ = $\\frac{71} {71 + 1}$ = $\\frac{71} {72}$\n",
        "\n",
        "*   $Recall{1}$ = 0.986\n",
        "\n",
        "<br>\n",
        "\n",
        "*   $Recall$ = $\\frac{Recall{0} + Recall{1}} {2}$ = $\\frac{0.923 + 0.986} {2} = \\frac{1.909} {2}$\n",
        "\n",
        "*   $Recall$ = $0.955$\n",
        "\n",
        "<br>\n",
        "<br>\n",
        "\n",
        "\n",
        "\n",
        "*   $F1$ = $ 2 \\cdotp \\frac{Precision \\cdotp Recall} {Precision + Recall} = 2 \\cdotp \\frac{0.967 \\cdotp 0.955} {0.967 + 0.955} = 0.976$\n",
        "\n"
      ],
      "metadata": {
        "id": "ia9Y5vgTDJta"
      }
    },
    {
      "cell_type": "markdown",
      "source": [
        "### SECOND TASK: Change Regularisation"
      ],
      "metadata": {
        "id": "RLtb4yCgJV9Y"
      }
    },
    {
      "cell_type": "code",
      "source": [
        "# create the model\n",
        "logR_l1_algo = LogR(penalty='l1')\n",
        "logR_l1_model = logR_algo.fit(X_train, Y_train)"
      ],
      "metadata": {
        "colab": {
          "base_uri": "https://localhost:8080/",
          "height": 321
        },
        "id": "mKCORhc7JbgO",
        "outputId": "e2ad8bff-31ba-4eb8-b578-a0474822db8e"
      },
      "execution_count": null,
      "outputs": [
        {
          "output_type": "error",
          "ename": "ValueError",
          "evalue": "Solver lbfgs supports only 'l2' or None penalties, got l1 penalty.",
          "traceback": [
            "\u001b[0;31m---------------------------------------------------------------------------\u001b[0m",
            "\u001b[0;31mValueError\u001b[0m                                Traceback (most recent call last)",
            "\u001b[0;32m<ipython-input-16-6d7b4ebae243>\u001b[0m in \u001b[0;36m<cell line: 3>\u001b[0;34m()\u001b[0m\n\u001b[1;32m      1\u001b[0m \u001b[0;31m# create the model\u001b[0m\u001b[0;34m\u001b[0m\u001b[0;34m\u001b[0m\u001b[0m\n\u001b[1;32m      2\u001b[0m \u001b[0mlogR_algo\u001b[0m \u001b[0;34m=\u001b[0m \u001b[0mLogR\u001b[0m\u001b[0;34m(\u001b[0m\u001b[0mpenalty\u001b[0m\u001b[0;34m=\u001b[0m\u001b[0;34m'l1'\u001b[0m\u001b[0;34m)\u001b[0m\u001b[0;34m\u001b[0m\u001b[0;34m\u001b[0m\u001b[0m\n\u001b[0;32m----> 3\u001b[0;31m \u001b[0mlogR_model\u001b[0m \u001b[0;34m=\u001b[0m \u001b[0mlogR_algo\u001b[0m\u001b[0;34m.\u001b[0m\u001b[0mfit\u001b[0m\u001b[0;34m(\u001b[0m\u001b[0mX_train\u001b[0m\u001b[0;34m,\u001b[0m \u001b[0mY_train\u001b[0m\u001b[0;34m)\u001b[0m\u001b[0;34m\u001b[0m\u001b[0;34m\u001b[0m\u001b[0m\n\u001b[0m",
            "\u001b[0;32m/usr/local/lib/python3.10/dist-packages/sklearn/base.py\u001b[0m in \u001b[0;36mwrapper\u001b[0;34m(estimator, *args, **kwargs)\u001b[0m\n\u001b[1;32m   1471\u001b[0m                 )\n\u001b[1;32m   1472\u001b[0m             ):\n\u001b[0;32m-> 1473\u001b[0;31m                 \u001b[0;32mreturn\u001b[0m \u001b[0mfit_method\u001b[0m\u001b[0;34m(\u001b[0m\u001b[0mestimator\u001b[0m\u001b[0;34m,\u001b[0m \u001b[0;34m*\u001b[0m\u001b[0margs\u001b[0m\u001b[0;34m,\u001b[0m \u001b[0;34m**\u001b[0m\u001b[0mkwargs\u001b[0m\u001b[0;34m)\u001b[0m\u001b[0;34m\u001b[0m\u001b[0;34m\u001b[0m\u001b[0m\n\u001b[0m\u001b[1;32m   1474\u001b[0m \u001b[0;34m\u001b[0m\u001b[0m\n\u001b[1;32m   1475\u001b[0m         \u001b[0;32mreturn\u001b[0m \u001b[0mwrapper\u001b[0m\u001b[0;34m\u001b[0m\u001b[0;34m\u001b[0m\u001b[0m\n",
            "\u001b[0;32m/usr/local/lib/python3.10/dist-packages/sklearn/linear_model/_logistic.py\u001b[0m in \u001b[0;36mfit\u001b[0;34m(self, X, y, sample_weight)\u001b[0m\n\u001b[1;32m   1192\u001b[0m         \u001b[0mThe\u001b[0m \u001b[0mSAGA\u001b[0m \u001b[0msolver\u001b[0m \u001b[0msupports\u001b[0m \u001b[0mboth\u001b[0m \u001b[0mfloat64\u001b[0m \u001b[0;32mand\u001b[0m \u001b[0mfloat32\u001b[0m \u001b[0mbit\u001b[0m \u001b[0marrays\u001b[0m\u001b[0;34m.\u001b[0m\u001b[0;34m\u001b[0m\u001b[0;34m\u001b[0m\u001b[0m\n\u001b[1;32m   1193\u001b[0m         \"\"\"\n\u001b[0;32m-> 1194\u001b[0;31m         \u001b[0msolver\u001b[0m \u001b[0;34m=\u001b[0m \u001b[0m_check_solver\u001b[0m\u001b[0;34m(\u001b[0m\u001b[0mself\u001b[0m\u001b[0;34m.\u001b[0m\u001b[0msolver\u001b[0m\u001b[0;34m,\u001b[0m \u001b[0mself\u001b[0m\u001b[0;34m.\u001b[0m\u001b[0mpenalty\u001b[0m\u001b[0;34m,\u001b[0m \u001b[0mself\u001b[0m\u001b[0;34m.\u001b[0m\u001b[0mdual\u001b[0m\u001b[0;34m)\u001b[0m\u001b[0;34m\u001b[0m\u001b[0;34m\u001b[0m\u001b[0m\n\u001b[0m\u001b[1;32m   1195\u001b[0m \u001b[0;34m\u001b[0m\u001b[0m\n\u001b[1;32m   1196\u001b[0m         \u001b[0;32mif\u001b[0m \u001b[0mself\u001b[0m\u001b[0;34m.\u001b[0m\u001b[0mpenalty\u001b[0m \u001b[0;34m!=\u001b[0m \u001b[0;34m\"elasticnet\"\u001b[0m \u001b[0;32mand\u001b[0m \u001b[0mself\u001b[0m\u001b[0;34m.\u001b[0m\u001b[0ml1_ratio\u001b[0m \u001b[0;32mis\u001b[0m \u001b[0;32mnot\u001b[0m \u001b[0;32mNone\u001b[0m\u001b[0;34m:\u001b[0m\u001b[0;34m\u001b[0m\u001b[0;34m\u001b[0m\u001b[0m\n",
            "\u001b[0;32m/usr/local/lib/python3.10/dist-packages/sklearn/linear_model/_logistic.py\u001b[0m in \u001b[0;36m_check_solver\u001b[0;34m(solver, penalty, dual)\u001b[0m\n\u001b[1;32m     65\u001b[0m \u001b[0;32mdef\u001b[0m \u001b[0m_check_solver\u001b[0m\u001b[0;34m(\u001b[0m\u001b[0msolver\u001b[0m\u001b[0;34m,\u001b[0m \u001b[0mpenalty\u001b[0m\u001b[0;34m,\u001b[0m \u001b[0mdual\u001b[0m\u001b[0;34m)\u001b[0m\u001b[0;34m:\u001b[0m\u001b[0;34m\u001b[0m\u001b[0;34m\u001b[0m\u001b[0m\n\u001b[1;32m     66\u001b[0m     \u001b[0;32mif\u001b[0m \u001b[0msolver\u001b[0m \u001b[0;32mnot\u001b[0m \u001b[0;32min\u001b[0m \u001b[0;34m[\u001b[0m\u001b[0;34m\"liblinear\"\u001b[0m\u001b[0;34m,\u001b[0m \u001b[0;34m\"saga\"\u001b[0m\u001b[0;34m]\u001b[0m \u001b[0;32mand\u001b[0m \u001b[0mpenalty\u001b[0m \u001b[0;32mnot\u001b[0m \u001b[0;32min\u001b[0m \u001b[0;34m(\u001b[0m\u001b[0;34m\"l2\"\u001b[0m\u001b[0;34m,\u001b[0m \u001b[0;32mNone\u001b[0m\u001b[0;34m)\u001b[0m\u001b[0;34m:\u001b[0m\u001b[0;34m\u001b[0m\u001b[0;34m\u001b[0m\u001b[0m\n\u001b[0;32m---> 67\u001b[0;31m         raise ValueError(\n\u001b[0m\u001b[1;32m     68\u001b[0m             \u001b[0;34mf\"Solver {solver} supports only 'l2' or None penalties, got {penalty} \"\u001b[0m\u001b[0;34m\u001b[0m\u001b[0;34m\u001b[0m\u001b[0m\n\u001b[1;32m     69\u001b[0m             \u001b[0;34m\"penalty.\"\u001b[0m\u001b[0;34m\u001b[0m\u001b[0;34m\u001b[0m\u001b[0m\n",
            "\u001b[0;31mValueError\u001b[0m: Solver lbfgs supports only 'l2' or None penalties, got l1 penalty."
          ]
        }
      ]
    },
    {
      "cell_type": "markdown",
      "source": [
        "OK error. Logistic regression's default solver only supports $L2$ not $L1$. We can check the documentation and changes as follows:"
      ],
      "metadata": {
        "id": "42NvNuILJl8c"
      }
    },
    {
      "cell_type": "code",
      "source": [
        "# create the model\n",
        "logR_l1_algo = LogR(penalty='l1', solver='liblinear')\n",
        "logR_l1_model = logR_l1_algo.fit(X_train, Y_train)"
      ],
      "metadata": {
        "id": "NT__3DzgJ4GO"
      },
      "execution_count": null,
      "outputs": []
    },
    {
      "cell_type": "markdown",
      "source": [
        "So now we can create them all:"
      ],
      "metadata": {
        "id": "j7NtcMwdKE5Y"
      }
    },
    {
      "cell_type": "code",
      "source": [
        "# create the model\n",
        "logR_l2_algo = LogR(penalty='l2')\n",
        "logR_l2_model = logR_l2_algo.fit(X_train, Y_train)\n",
        "\n",
        "logR_en_algo = LogR(penalty='l1', solver='liblinear')\n",
        "logR_en_model = logR_en_algo.fit(X_train, Y_train)"
      ],
      "metadata": {
        "id": "Gok33UkqKHdk"
      },
      "execution_count": null,
      "outputs": []
    },
    {
      "cell_type": "markdown",
      "source": [
        "And let's check accuracy:"
      ],
      "metadata": {
        "id": "Mcj5RDIJKXfi"
      }
    },
    {
      "cell_type": "code",
      "source": [
        "models = [logR_model, logR_l1_model, logR_l2_model, logR_en_model]\n",
        "model_names = ['LR', 'L1', 'L2', 'ElasticNet']\n",
        "\n",
        "for i in range(4):\n",
        "  # Set model and print name\n",
        "  model = models[i]\n",
        "  print(f'Model: {model_names[i]}')\n",
        "\n",
        "  # predict the test data\n",
        "  predict = model.predict(X_test)\n",
        "\n",
        "  print(f'Accuracy: {round(accuracy_score(Y_test, predict),2)}')\n",
        "  print(\"\\n\")"
      ],
      "metadata": {
        "colab": {
          "base_uri": "https://localhost:8080/"
        },
        "id": "TIAPNtjyKZQf",
        "outputId": "0a901d0d-9d8d-434b-ebfa-a2872d27173e"
      },
      "execution_count": null,
      "outputs": [
        {
          "output_type": "stream",
          "name": "stdout",
          "text": [
            "Model: LR\n",
            "Accuracy: 0.96\n",
            "\n",
            "\n",
            "Model: L1\n",
            "Accuracy: 0.97\n",
            "\n",
            "\n",
            "Model: L2\n",
            "Accuracy: 0.96\n",
            "\n",
            "\n",
            "Model: ElasticNet\n",
            "Accuracy: 0.97\n",
            "\n",
            "\n"
          ]
        }
      ]
    },
    {
      "cell_type": "markdown",
      "source": [
        "Not much difference but we may pick $L1$ or ElasticNet."
      ],
      "metadata": {
        "id": "z-kMk7OpKpTV"
      }
    }
  ]
}